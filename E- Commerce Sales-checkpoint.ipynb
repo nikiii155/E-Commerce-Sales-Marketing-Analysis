{
 "cells": [
  {
   "cell_type": "code",
   "execution_count": 7,
   "id": "58a55bae-c5cf-4b62-87cd-6b6b03817549",
   "metadata": {},
   "outputs": [],
   "source": [
    "import numpy as np\n",
    "import pandas as pd\n",
    "import matplotlib.pyplot as plt\n",
    "import seaborn as sns"
   ]
  },
  {
   "cell_type": "code",
   "execution_count": 8,
   "id": "9cf60e77-d4c2-43a0-948c-bda32abd49e0",
   "metadata": {},
   "outputs": [],
   "source": [
    "#load csv file#"
   ]
  },
  {
   "cell_type": "code",
   "execution_count": 9,
   "id": "bf305816-380b-4497-804c-45b9cfed9d50",
   "metadata": {},
   "outputs": [
    {
     "data": {
      "text/html": [
       "<div>\n",
       "<style scoped>\n",
       "    .dataframe tbody tr th:only-of-type {\n",
       "        vertical-align: middle;\n",
       "    }\n",
       "\n",
       "    .dataframe tbody tr th {\n",
       "        vertical-align: top;\n",
       "    }\n",
       "\n",
       "    .dataframe thead th {\n",
       "        text-align: right;\n",
       "    }\n",
       "</style>\n",
       "<table border=\"1\" class=\"dataframe\">\n",
       "  <thead>\n",
       "    <tr style=\"text-align: right;\">\n",
       "      <th></th>\n",
       "      <th>Row ID</th>\n",
       "      <th>Order Priority</th>\n",
       "      <th>Discount</th>\n",
       "      <th>Unit Price</th>\n",
       "      <th>Shipping Cost</th>\n",
       "      <th>Customer ID</th>\n",
       "      <th>Customer Name</th>\n",
       "      <th>Ship Mode</th>\n",
       "      <th>Customer Segment</th>\n",
       "      <th>Product Category</th>\n",
       "      <th>...</th>\n",
       "      <th>Region</th>\n",
       "      <th>State or Province</th>\n",
       "      <th>City</th>\n",
       "      <th>Postal Code</th>\n",
       "      <th>Order Date</th>\n",
       "      <th>Ship Date</th>\n",
       "      <th>Profit</th>\n",
       "      <th>Quantity ordered new</th>\n",
       "      <th>Sales</th>\n",
       "      <th>Order ID</th>\n",
       "    </tr>\n",
       "  </thead>\n",
       "  <tbody>\n",
       "    <tr>\n",
       "      <th>0</th>\n",
       "      <td>18606</td>\n",
       "      <td>Not Specified</td>\n",
       "      <td>0.01</td>\n",
       "      <td>2.88</td>\n",
       "      <td>0.50</td>\n",
       "      <td>2</td>\n",
       "      <td>Janice Fletcher</td>\n",
       "      <td>Regular Air</td>\n",
       "      <td>Corporate</td>\n",
       "      <td>Office Supplies</td>\n",
       "      <td>...</td>\n",
       "      <td>Central</td>\n",
       "      <td>Illinois</td>\n",
       "      <td>Addison</td>\n",
       "      <td>60101</td>\n",
       "      <td>28-05-2012</td>\n",
       "      <td>30-05-2012</td>\n",
       "      <td>1.320000</td>\n",
       "      <td>2</td>\n",
       "      <td>5.90</td>\n",
       "      <td>88525</td>\n",
       "    </tr>\n",
       "    <tr>\n",
       "      <th>1</th>\n",
       "      <td>20847</td>\n",
       "      <td>High</td>\n",
       "      <td>0.01</td>\n",
       "      <td>2.84</td>\n",
       "      <td>0.93</td>\n",
       "      <td>3</td>\n",
       "      <td>Bonnie Potter</td>\n",
       "      <td>Express Air</td>\n",
       "      <td>Corporate</td>\n",
       "      <td>Office Supplies</td>\n",
       "      <td>...</td>\n",
       "      <td>West</td>\n",
       "      <td>Washington</td>\n",
       "      <td>Anacortes</td>\n",
       "      <td>98221</td>\n",
       "      <td>7/7/2010</td>\n",
       "      <td>8/7/2010</td>\n",
       "      <td>4.560000</td>\n",
       "      <td>4</td>\n",
       "      <td>13.01</td>\n",
       "      <td>88522</td>\n",
       "    </tr>\n",
       "    <tr>\n",
       "      <th>2</th>\n",
       "      <td>23086</td>\n",
       "      <td>Not Specified</td>\n",
       "      <td>0.03</td>\n",
       "      <td>6.68</td>\n",
       "      <td>6.15</td>\n",
       "      <td>3</td>\n",
       "      <td>Bonnie Potter</td>\n",
       "      <td>Express Air</td>\n",
       "      <td>Corporate</td>\n",
       "      <td>Office Supplies</td>\n",
       "      <td>...</td>\n",
       "      <td>West</td>\n",
       "      <td>Washington</td>\n",
       "      <td>Anacortes</td>\n",
       "      <td>98221</td>\n",
       "      <td>27-07-2011</td>\n",
       "      <td>28-07-2011</td>\n",
       "      <td>-47.640000</td>\n",
       "      <td>7</td>\n",
       "      <td>49.92</td>\n",
       "      <td>88523</td>\n",
       "    </tr>\n",
       "    <tr>\n",
       "      <th>3</th>\n",
       "      <td>23087</td>\n",
       "      <td>Not Specified</td>\n",
       "      <td>0.01</td>\n",
       "      <td>5.68</td>\n",
       "      <td>3.60</td>\n",
       "      <td>3</td>\n",
       "      <td>Bonnie Potter</td>\n",
       "      <td>Regular Air</td>\n",
       "      <td>Corporate</td>\n",
       "      <td>Office Supplies</td>\n",
       "      <td>...</td>\n",
       "      <td>West</td>\n",
       "      <td>Washington</td>\n",
       "      <td>Anacortes</td>\n",
       "      <td>98221</td>\n",
       "      <td>27-07-2011</td>\n",
       "      <td>28-07-2011</td>\n",
       "      <td>-30.510000</td>\n",
       "      <td>7</td>\n",
       "      <td>41.64</td>\n",
       "      <td>88523</td>\n",
       "    </tr>\n",
       "    <tr>\n",
       "      <th>4</th>\n",
       "      <td>23088</td>\n",
       "      <td>Not Specified</td>\n",
       "      <td>0.00</td>\n",
       "      <td>205.99</td>\n",
       "      <td>2.50</td>\n",
       "      <td>3</td>\n",
       "      <td>Bonnie Potter</td>\n",
       "      <td>Express Air</td>\n",
       "      <td>Corporate</td>\n",
       "      <td>Technology</td>\n",
       "      <td>...</td>\n",
       "      <td>West</td>\n",
       "      <td>Washington</td>\n",
       "      <td>Anacortes</td>\n",
       "      <td>98221</td>\n",
       "      <td>27-07-2011</td>\n",
       "      <td>27-07-2011</td>\n",
       "      <td>998.202300</td>\n",
       "      <td>8</td>\n",
       "      <td>1446.67</td>\n",
       "      <td>88523</td>\n",
       "    </tr>\n",
       "    <tr>\n",
       "      <th>...</th>\n",
       "      <td>...</td>\n",
       "      <td>...</td>\n",
       "      <td>...</td>\n",
       "      <td>...</td>\n",
       "      <td>...</td>\n",
       "      <td>...</td>\n",
       "      <td>...</td>\n",
       "      <td>...</td>\n",
       "      <td>...</td>\n",
       "      <td>...</td>\n",
       "      <td>...</td>\n",
       "      <td>...</td>\n",
       "      <td>...</td>\n",
       "      <td>...</td>\n",
       "      <td>...</td>\n",
       "      <td>...</td>\n",
       "      <td>...</td>\n",
       "      <td>...</td>\n",
       "      <td>...</td>\n",
       "      <td>...</td>\n",
       "      <td>...</td>\n",
       "    </tr>\n",
       "    <tr>\n",
       "      <th>9421</th>\n",
       "      <td>20275</td>\n",
       "      <td>Critical</td>\n",
       "      <td>0.06</td>\n",
       "      <td>35.89</td>\n",
       "      <td>14.72</td>\n",
       "      <td>3402</td>\n",
       "      <td>Frederick Cole</td>\n",
       "      <td>Regular Air</td>\n",
       "      <td>Consumer</td>\n",
       "      <td>Office Supplies</td>\n",
       "      <td>...</td>\n",
       "      <td>East</td>\n",
       "      <td>West Virginia</td>\n",
       "      <td>Charleston</td>\n",
       "      <td>25314</td>\n",
       "      <td>14-05-2013</td>\n",
       "      <td>15-05-2013</td>\n",
       "      <td>137.860000</td>\n",
       "      <td>13</td>\n",
       "      <td>447.87</td>\n",
       "      <td>87532</td>\n",
       "    </tr>\n",
       "    <tr>\n",
       "      <th>9422</th>\n",
       "      <td>20276</td>\n",
       "      <td>Critical</td>\n",
       "      <td>0.00</td>\n",
       "      <td>3.34</td>\n",
       "      <td>7.49</td>\n",
       "      <td>3402</td>\n",
       "      <td>Frederick Cole</td>\n",
       "      <td>Regular Air</td>\n",
       "      <td>Consumer</td>\n",
       "      <td>Office Supplies</td>\n",
       "      <td>...</td>\n",
       "      <td>East</td>\n",
       "      <td>West Virginia</td>\n",
       "      <td>Charleston</td>\n",
       "      <td>25314</td>\n",
       "      <td>14-05-2013</td>\n",
       "      <td>14-05-2013</td>\n",
       "      <td>-39.070000</td>\n",
       "      <td>3</td>\n",
       "      <td>13.23</td>\n",
       "      <td>87532</td>\n",
       "    </tr>\n",
       "    <tr>\n",
       "      <th>9423</th>\n",
       "      <td>24491</td>\n",
       "      <td>Not Specified</td>\n",
       "      <td>0.08</td>\n",
       "      <td>550.98</td>\n",
       "      <td>45.70</td>\n",
       "      <td>3402</td>\n",
       "      <td>Frederick Cole</td>\n",
       "      <td>Delivery Truck</td>\n",
       "      <td>Consumer</td>\n",
       "      <td>Furniture</td>\n",
       "      <td>...</td>\n",
       "      <td>East</td>\n",
       "      <td>West Virginia</td>\n",
       "      <td>Charleston</td>\n",
       "      <td>25314</td>\n",
       "      <td>12/9/2013</td>\n",
       "      <td>14-09-2013</td>\n",
       "      <td>-1225.029097</td>\n",
       "      <td>4</td>\n",
       "      <td>2215.93</td>\n",
       "      <td>87533</td>\n",
       "    </tr>\n",
       "    <tr>\n",
       "      <th>9424</th>\n",
       "      <td>25914</td>\n",
       "      <td>High</td>\n",
       "      <td>0.10</td>\n",
       "      <td>105.98</td>\n",
       "      <td>13.99</td>\n",
       "      <td>3403</td>\n",
       "      <td>Tammy Buckley</td>\n",
       "      <td>Express Air</td>\n",
       "      <td>Consumer</td>\n",
       "      <td>Furniture</td>\n",
       "      <td>...</td>\n",
       "      <td>West</td>\n",
       "      <td>Wyoming</td>\n",
       "      <td>Cheyenne</td>\n",
       "      <td>82001</td>\n",
       "      <td>8/2/2010</td>\n",
       "      <td>11/2/2010</td>\n",
       "      <td>349.485000</td>\n",
       "      <td>5</td>\n",
       "      <td>506.50</td>\n",
       "      <td>87530</td>\n",
       "    </tr>\n",
       "    <tr>\n",
       "      <th>9425</th>\n",
       "      <td>24492</td>\n",
       "      <td>Not Specified</td>\n",
       "      <td>0.09</td>\n",
       "      <td>7.78</td>\n",
       "      <td>2.50</td>\n",
       "      <td>3403</td>\n",
       "      <td>Tammy Buckley</td>\n",
       "      <td>Express Air</td>\n",
       "      <td>Consumer</td>\n",
       "      <td>Office Supplies</td>\n",
       "      <td>...</td>\n",
       "      <td>West</td>\n",
       "      <td>Wyoming</td>\n",
       "      <td>Cheyenne</td>\n",
       "      <td>82001</td>\n",
       "      <td>12/9/2013</td>\n",
       "      <td>14-09-2013</td>\n",
       "      <td>78.062400</td>\n",
       "      <td>23</td>\n",
       "      <td>172.48</td>\n",
       "      <td>87533</td>\n",
       "    </tr>\n",
       "  </tbody>\n",
       "</table>\n",
       "<p>9426 rows × 24 columns</p>\n",
       "</div>"
      ],
      "text/plain": [
       "      Row ID Order Priority  Discount  Unit Price  Shipping Cost  Customer ID  \\\n",
       "0      18606  Not Specified      0.01        2.88           0.50            2   \n",
       "1      20847           High      0.01        2.84           0.93            3   \n",
       "2      23086  Not Specified      0.03        6.68           6.15            3   \n",
       "3      23087  Not Specified      0.01        5.68           3.60            3   \n",
       "4      23088  Not Specified      0.00      205.99           2.50            3   \n",
       "...      ...            ...       ...         ...            ...          ...   \n",
       "9421   20275       Critical      0.06       35.89          14.72         3402   \n",
       "9422   20276       Critical      0.00        3.34           7.49         3402   \n",
       "9423   24491  Not Specified      0.08      550.98          45.70         3402   \n",
       "9424   25914           High      0.10      105.98          13.99         3403   \n",
       "9425   24492  Not Specified      0.09        7.78           2.50         3403   \n",
       "\n",
       "        Customer Name       Ship Mode Customer Segment Product Category  ...  \\\n",
       "0     Janice Fletcher     Regular Air        Corporate  Office Supplies  ...   \n",
       "1       Bonnie Potter     Express Air        Corporate  Office Supplies  ...   \n",
       "2       Bonnie Potter     Express Air        Corporate  Office Supplies  ...   \n",
       "3       Bonnie Potter     Regular Air        Corporate  Office Supplies  ...   \n",
       "4       Bonnie Potter     Express Air        Corporate       Technology  ...   \n",
       "...               ...             ...              ...              ...  ...   \n",
       "9421   Frederick Cole     Regular Air         Consumer  Office Supplies  ...   \n",
       "9422   Frederick Cole     Regular Air         Consumer  Office Supplies  ...   \n",
       "9423   Frederick Cole  Delivery Truck         Consumer        Furniture  ...   \n",
       "9424    Tammy Buckley     Express Air         Consumer        Furniture  ...   \n",
       "9425    Tammy Buckley     Express Air         Consumer  Office Supplies  ...   \n",
       "\n",
       "       Region State or Province        City  Postal Code  Order Date  \\\n",
       "0     Central          Illinois     Addison        60101  28-05-2012   \n",
       "1        West        Washington   Anacortes        98221    7/7/2010   \n",
       "2        West        Washington   Anacortes        98221  27-07-2011   \n",
       "3        West        Washington   Anacortes        98221  27-07-2011   \n",
       "4        West        Washington   Anacortes        98221  27-07-2011   \n",
       "...       ...               ...         ...          ...         ...   \n",
       "9421     East     West Virginia  Charleston        25314  14-05-2013   \n",
       "9422     East     West Virginia  Charleston        25314  14-05-2013   \n",
       "9423     East     West Virginia  Charleston        25314   12/9/2013   \n",
       "9424     West           Wyoming    Cheyenne        82001    8/2/2010   \n",
       "9425     West           Wyoming    Cheyenne        82001   12/9/2013   \n",
       "\n",
       "       Ship Date       Profit  Quantity ordered new    Sales Order ID  \n",
       "0     30-05-2012     1.320000                     2     5.90    88525  \n",
       "1       8/7/2010     4.560000                     4    13.01    88522  \n",
       "2     28-07-2011   -47.640000                     7    49.92    88523  \n",
       "3     28-07-2011   -30.510000                     7    41.64    88523  \n",
       "4     27-07-2011   998.202300                     8  1446.67    88523  \n",
       "...          ...          ...                   ...      ...      ...  \n",
       "9421  15-05-2013   137.860000                    13   447.87    87532  \n",
       "9422  14-05-2013   -39.070000                     3    13.23    87532  \n",
       "9423  14-09-2013 -1225.029097                     4  2215.93    87533  \n",
       "9424   11/2/2010   349.485000                     5   506.50    87530  \n",
       "9425  14-09-2013    78.062400                    23   172.48    87533  \n",
       "\n",
       "[9426 rows x 24 columns]"
      ]
     },
     "execution_count": 9,
     "metadata": {},
     "output_type": "execute_result"
    }
   ],
   "source": [
    "data = pd.read_csv(\"Superstore_USA.csv\", encoding=\"latin1\")\n",
    "data"
   ]
  },
  {
   "cell_type": "code",
   "execution_count": 10,
   "id": "24b59b52-5ce3-410f-89d4-cd7293fedf4d",
   "metadata": {},
   "outputs": [
    {
     "data": {
      "text/html": [
       "<div>\n",
       "<style scoped>\n",
       "    .dataframe tbody tr th:only-of-type {\n",
       "        vertical-align: middle;\n",
       "    }\n",
       "\n",
       "    .dataframe tbody tr th {\n",
       "        vertical-align: top;\n",
       "    }\n",
       "\n",
       "    .dataframe thead th {\n",
       "        text-align: right;\n",
       "    }\n",
       "</style>\n",
       "<table border=\"1\" class=\"dataframe\">\n",
       "  <thead>\n",
       "    <tr style=\"text-align: right;\">\n",
       "      <th></th>\n",
       "      <th>Row ID</th>\n",
       "      <th>Order Priority</th>\n",
       "      <th>Discount</th>\n",
       "      <th>Unit Price</th>\n",
       "      <th>Shipping Cost</th>\n",
       "      <th>Customer ID</th>\n",
       "      <th>Customer Name</th>\n",
       "      <th>Ship Mode</th>\n",
       "      <th>Customer Segment</th>\n",
       "      <th>Product Category</th>\n",
       "      <th>...</th>\n",
       "      <th>Region</th>\n",
       "      <th>State or Province</th>\n",
       "      <th>City</th>\n",
       "      <th>Postal Code</th>\n",
       "      <th>Order Date</th>\n",
       "      <th>Ship Date</th>\n",
       "      <th>Profit</th>\n",
       "      <th>Quantity ordered new</th>\n",
       "      <th>Sales</th>\n",
       "      <th>Order ID</th>\n",
       "    </tr>\n",
       "  </thead>\n",
       "  <tbody>\n",
       "    <tr>\n",
       "      <th>0</th>\n",
       "      <td>18606</td>\n",
       "      <td>Not Specified</td>\n",
       "      <td>0.01</td>\n",
       "      <td>2.88</td>\n",
       "      <td>0.50</td>\n",
       "      <td>2</td>\n",
       "      <td>Janice Fletcher</td>\n",
       "      <td>Regular Air</td>\n",
       "      <td>Corporate</td>\n",
       "      <td>Office Supplies</td>\n",
       "      <td>...</td>\n",
       "      <td>Central</td>\n",
       "      <td>Illinois</td>\n",
       "      <td>Addison</td>\n",
       "      <td>60101</td>\n",
       "      <td>28-05-2012</td>\n",
       "      <td>30-05-2012</td>\n",
       "      <td>1.3200</td>\n",
       "      <td>2</td>\n",
       "      <td>5.90</td>\n",
       "      <td>88525</td>\n",
       "    </tr>\n",
       "    <tr>\n",
       "      <th>1</th>\n",
       "      <td>20847</td>\n",
       "      <td>High</td>\n",
       "      <td>0.01</td>\n",
       "      <td>2.84</td>\n",
       "      <td>0.93</td>\n",
       "      <td>3</td>\n",
       "      <td>Bonnie Potter</td>\n",
       "      <td>Express Air</td>\n",
       "      <td>Corporate</td>\n",
       "      <td>Office Supplies</td>\n",
       "      <td>...</td>\n",
       "      <td>West</td>\n",
       "      <td>Washington</td>\n",
       "      <td>Anacortes</td>\n",
       "      <td>98221</td>\n",
       "      <td>7/7/2010</td>\n",
       "      <td>8/7/2010</td>\n",
       "      <td>4.5600</td>\n",
       "      <td>4</td>\n",
       "      <td>13.01</td>\n",
       "      <td>88522</td>\n",
       "    </tr>\n",
       "    <tr>\n",
       "      <th>2</th>\n",
       "      <td>23086</td>\n",
       "      <td>Not Specified</td>\n",
       "      <td>0.03</td>\n",
       "      <td>6.68</td>\n",
       "      <td>6.15</td>\n",
       "      <td>3</td>\n",
       "      <td>Bonnie Potter</td>\n",
       "      <td>Express Air</td>\n",
       "      <td>Corporate</td>\n",
       "      <td>Office Supplies</td>\n",
       "      <td>...</td>\n",
       "      <td>West</td>\n",
       "      <td>Washington</td>\n",
       "      <td>Anacortes</td>\n",
       "      <td>98221</td>\n",
       "      <td>27-07-2011</td>\n",
       "      <td>28-07-2011</td>\n",
       "      <td>-47.6400</td>\n",
       "      <td>7</td>\n",
       "      <td>49.92</td>\n",
       "      <td>88523</td>\n",
       "    </tr>\n",
       "    <tr>\n",
       "      <th>3</th>\n",
       "      <td>23087</td>\n",
       "      <td>Not Specified</td>\n",
       "      <td>0.01</td>\n",
       "      <td>5.68</td>\n",
       "      <td>3.60</td>\n",
       "      <td>3</td>\n",
       "      <td>Bonnie Potter</td>\n",
       "      <td>Regular Air</td>\n",
       "      <td>Corporate</td>\n",
       "      <td>Office Supplies</td>\n",
       "      <td>...</td>\n",
       "      <td>West</td>\n",
       "      <td>Washington</td>\n",
       "      <td>Anacortes</td>\n",
       "      <td>98221</td>\n",
       "      <td>27-07-2011</td>\n",
       "      <td>28-07-2011</td>\n",
       "      <td>-30.5100</td>\n",
       "      <td>7</td>\n",
       "      <td>41.64</td>\n",
       "      <td>88523</td>\n",
       "    </tr>\n",
       "    <tr>\n",
       "      <th>4</th>\n",
       "      <td>23088</td>\n",
       "      <td>Not Specified</td>\n",
       "      <td>0.00</td>\n",
       "      <td>205.99</td>\n",
       "      <td>2.50</td>\n",
       "      <td>3</td>\n",
       "      <td>Bonnie Potter</td>\n",
       "      <td>Express Air</td>\n",
       "      <td>Corporate</td>\n",
       "      <td>Technology</td>\n",
       "      <td>...</td>\n",
       "      <td>West</td>\n",
       "      <td>Washington</td>\n",
       "      <td>Anacortes</td>\n",
       "      <td>98221</td>\n",
       "      <td>27-07-2011</td>\n",
       "      <td>27-07-2011</td>\n",
       "      <td>998.2023</td>\n",
       "      <td>8</td>\n",
       "      <td>1446.67</td>\n",
       "      <td>88523</td>\n",
       "    </tr>\n",
       "  </tbody>\n",
       "</table>\n",
       "<p>5 rows × 24 columns</p>\n",
       "</div>"
      ],
      "text/plain": [
       "   Row ID Order Priority  Discount  Unit Price  Shipping Cost  Customer ID  \\\n",
       "0   18606  Not Specified      0.01        2.88           0.50            2   \n",
       "1   20847           High      0.01        2.84           0.93            3   \n",
       "2   23086  Not Specified      0.03        6.68           6.15            3   \n",
       "3   23087  Not Specified      0.01        5.68           3.60            3   \n",
       "4   23088  Not Specified      0.00      205.99           2.50            3   \n",
       "\n",
       "     Customer Name    Ship Mode Customer Segment Product Category  ...  \\\n",
       "0  Janice Fletcher  Regular Air        Corporate  Office Supplies  ...   \n",
       "1    Bonnie Potter  Express Air        Corporate  Office Supplies  ...   \n",
       "2    Bonnie Potter  Express Air        Corporate  Office Supplies  ...   \n",
       "3    Bonnie Potter  Regular Air        Corporate  Office Supplies  ...   \n",
       "4    Bonnie Potter  Express Air        Corporate       Technology  ...   \n",
       "\n",
       "    Region State or Province       City  Postal Code  Order Date   Ship Date  \\\n",
       "0  Central          Illinois    Addison        60101  28-05-2012  30-05-2012   \n",
       "1     West        Washington  Anacortes        98221    7/7/2010    8/7/2010   \n",
       "2     West        Washington  Anacortes        98221  27-07-2011  28-07-2011   \n",
       "3     West        Washington  Anacortes        98221  27-07-2011  28-07-2011   \n",
       "4     West        Washington  Anacortes        98221  27-07-2011  27-07-2011   \n",
       "\n",
       "     Profit  Quantity ordered new    Sales Order ID  \n",
       "0    1.3200                     2     5.90    88525  \n",
       "1    4.5600                     4    13.01    88522  \n",
       "2  -47.6400                     7    49.92    88523  \n",
       "3  -30.5100                     7    41.64    88523  \n",
       "4  998.2023                     8  1446.67    88523  \n",
       "\n",
       "[5 rows x 24 columns]"
      ]
     },
     "execution_count": 10,
     "metadata": {},
     "output_type": "execute_result"
    }
   ],
   "source": [
    "data.head()"
   ]
  },
  {
   "cell_type": "code",
   "execution_count": 11,
   "id": "0cca1cbe-ed29-4a93-8f90-021de718f88e",
   "metadata": {},
   "outputs": [
    {
     "data": {
      "text/html": [
       "<div>\n",
       "<style scoped>\n",
       "    .dataframe tbody tr th:only-of-type {\n",
       "        vertical-align: middle;\n",
       "    }\n",
       "\n",
       "    .dataframe tbody tr th {\n",
       "        vertical-align: top;\n",
       "    }\n",
       "\n",
       "    .dataframe thead th {\n",
       "        text-align: right;\n",
       "    }\n",
       "</style>\n",
       "<table border=\"1\" class=\"dataframe\">\n",
       "  <thead>\n",
       "    <tr style=\"text-align: right;\">\n",
       "      <th></th>\n",
       "      <th>Row ID</th>\n",
       "      <th>Discount</th>\n",
       "      <th>Unit Price</th>\n",
       "      <th>Shipping Cost</th>\n",
       "      <th>Customer ID</th>\n",
       "      <th>Product Base Margin</th>\n",
       "      <th>Postal Code</th>\n",
       "      <th>Profit</th>\n",
       "      <th>Quantity ordered new</th>\n",
       "      <th>Sales</th>\n",
       "      <th>Order ID</th>\n",
       "    </tr>\n",
       "  </thead>\n",
       "  <tbody>\n",
       "    <tr>\n",
       "      <th>count</th>\n",
       "      <td>9426.000000</td>\n",
       "      <td>9426.000000</td>\n",
       "      <td>9426.000000</td>\n",
       "      <td>9426.000000</td>\n",
       "      <td>9426.000000</td>\n",
       "      <td>9354.000000</td>\n",
       "      <td>9426.000000</td>\n",
       "      <td>9426.000000</td>\n",
       "      <td>9426.000000</td>\n",
       "      <td>9426.000000</td>\n",
       "      <td>9426.000000</td>\n",
       "    </tr>\n",
       "    <tr>\n",
       "      <th>mean</th>\n",
       "      <td>20241.015277</td>\n",
       "      <td>0.049628</td>\n",
       "      <td>88.303686</td>\n",
       "      <td>12.795142</td>\n",
       "      <td>1738.422236</td>\n",
       "      <td>0.512189</td>\n",
       "      <td>52446.327286</td>\n",
       "      <td>139.236410</td>\n",
       "      <td>13.798430</td>\n",
       "      <td>949.706272</td>\n",
       "      <td>82318.489073</td>\n",
       "    </tr>\n",
       "    <tr>\n",
       "      <th>std</th>\n",
       "      <td>6101.890965</td>\n",
       "      <td>0.031798</td>\n",
       "      <td>281.540982</td>\n",
       "      <td>17.181203</td>\n",
       "      <td>979.167197</td>\n",
       "      <td>0.135229</td>\n",
       "      <td>29374.597802</td>\n",
       "      <td>998.486483</td>\n",
       "      <td>15.107688</td>\n",
       "      <td>2598.019818</td>\n",
       "      <td>19149.448857</td>\n",
       "    </tr>\n",
       "    <tr>\n",
       "      <th>min</th>\n",
       "      <td>2.000000</td>\n",
       "      <td>0.000000</td>\n",
       "      <td>0.990000</td>\n",
       "      <td>0.490000</td>\n",
       "      <td>2.000000</td>\n",
       "      <td>0.350000</td>\n",
       "      <td>1001.000000</td>\n",
       "      <td>-16476.838000</td>\n",
       "      <td>1.000000</td>\n",
       "      <td>1.320000</td>\n",
       "      <td>6.000000</td>\n",
       "    </tr>\n",
       "    <tr>\n",
       "      <th>25%</th>\n",
       "      <td>19330.250000</td>\n",
       "      <td>0.020000</td>\n",
       "      <td>6.480000</td>\n",
       "      <td>3.192500</td>\n",
       "      <td>898.000000</td>\n",
       "      <td>0.380000</td>\n",
       "      <td>29406.000000</td>\n",
       "      <td>-74.017375</td>\n",
       "      <td>5.000000</td>\n",
       "      <td>61.282500</td>\n",
       "      <td>86737.250000</td>\n",
       "    </tr>\n",
       "    <tr>\n",
       "      <th>50%</th>\n",
       "      <td>21686.500000</td>\n",
       "      <td>0.050000</td>\n",
       "      <td>20.990000</td>\n",
       "      <td>6.050000</td>\n",
       "      <td>1750.000000</td>\n",
       "      <td>0.520000</td>\n",
       "      <td>52302.000000</td>\n",
       "      <td>2.567600</td>\n",
       "      <td>10.000000</td>\n",
       "      <td>203.455000</td>\n",
       "      <td>88344.500000</td>\n",
       "    </tr>\n",
       "    <tr>\n",
       "      <th>75%</th>\n",
       "      <td>24042.750000</td>\n",
       "      <td>0.080000</td>\n",
       "      <td>85.990000</td>\n",
       "      <td>13.990000</td>\n",
       "      <td>2578.750000</td>\n",
       "      <td>0.590000</td>\n",
       "      <td>78516.000000</td>\n",
       "      <td>140.243850</td>\n",
       "      <td>17.000000</td>\n",
       "      <td>776.402500</td>\n",
       "      <td>89987.750000</td>\n",
       "    </tr>\n",
       "    <tr>\n",
       "      <th>max</th>\n",
       "      <td>26399.000000</td>\n",
       "      <td>0.250000</td>\n",
       "      <td>6783.020000</td>\n",
       "      <td>164.730000</td>\n",
       "      <td>3403.000000</td>\n",
       "      <td>0.850000</td>\n",
       "      <td>99362.000000</td>\n",
       "      <td>16332.414000</td>\n",
       "      <td>170.000000</td>\n",
       "      <td>100119.160000</td>\n",
       "      <td>91591.000000</td>\n",
       "    </tr>\n",
       "  </tbody>\n",
       "</table>\n",
       "</div>"
      ],
      "text/plain": [
       "             Row ID     Discount   Unit Price  Shipping Cost  Customer ID  \\\n",
       "count   9426.000000  9426.000000  9426.000000    9426.000000  9426.000000   \n",
       "mean   20241.015277     0.049628    88.303686      12.795142  1738.422236   \n",
       "std     6101.890965     0.031798   281.540982      17.181203   979.167197   \n",
       "min        2.000000     0.000000     0.990000       0.490000     2.000000   \n",
       "25%    19330.250000     0.020000     6.480000       3.192500   898.000000   \n",
       "50%    21686.500000     0.050000    20.990000       6.050000  1750.000000   \n",
       "75%    24042.750000     0.080000    85.990000      13.990000  2578.750000   \n",
       "max    26399.000000     0.250000  6783.020000     164.730000  3403.000000   \n",
       "\n",
       "       Product Base Margin   Postal Code        Profit  Quantity ordered new  \\\n",
       "count          9354.000000   9426.000000   9426.000000           9426.000000   \n",
       "mean              0.512189  52446.327286    139.236410             13.798430   \n",
       "std               0.135229  29374.597802    998.486483             15.107688   \n",
       "min               0.350000   1001.000000 -16476.838000              1.000000   \n",
       "25%               0.380000  29406.000000    -74.017375              5.000000   \n",
       "50%               0.520000  52302.000000      2.567600             10.000000   \n",
       "75%               0.590000  78516.000000    140.243850             17.000000   \n",
       "max               0.850000  99362.000000  16332.414000            170.000000   \n",
       "\n",
       "               Sales      Order ID  \n",
       "count    9426.000000   9426.000000  \n",
       "mean      949.706272  82318.489073  \n",
       "std      2598.019818  19149.448857  \n",
       "min         1.320000      6.000000  \n",
       "25%        61.282500  86737.250000  \n",
       "50%       203.455000  88344.500000  \n",
       "75%       776.402500  89987.750000  \n",
       "max    100119.160000  91591.000000  "
      ]
     },
     "execution_count": 11,
     "metadata": {},
     "output_type": "execute_result"
    }
   ],
   "source": [
    "data.describe()"
   ]
  },
  {
   "cell_type": "code",
   "execution_count": 12,
   "id": "c98c9002-5e1c-4469-8475-96225247f2e3",
   "metadata": {},
   "outputs": [
    {
     "data": {
      "text/plain": [
       "(9426, 24)"
      ]
     },
     "execution_count": 12,
     "metadata": {},
     "output_type": "execute_result"
    }
   ],
   "source": [
    "data.shape"
   ]
  },
  {
   "cell_type": "code",
   "execution_count": 13,
   "id": "f7ad5610-f6b8-4f74-b6eb-dbc2b3d64874",
   "metadata": {},
   "outputs": [],
   "source": [
    "# now we are finding missing valus#\n"
   ]
  },
  {
   "cell_type": "code",
   "execution_count": 14,
   "id": "63117790-b995-468e-a885-bdcbd3a4c99c",
   "metadata": {},
   "outputs": [
    {
     "data": {
      "text/html": [
       "<div>\n",
       "<style scoped>\n",
       "    .dataframe tbody tr th:only-of-type {\n",
       "        vertical-align: middle;\n",
       "    }\n",
       "\n",
       "    .dataframe tbody tr th {\n",
       "        vertical-align: top;\n",
       "    }\n",
       "\n",
       "    .dataframe thead th {\n",
       "        text-align: right;\n",
       "    }\n",
       "</style>\n",
       "<table border=\"1\" class=\"dataframe\">\n",
       "  <thead>\n",
       "    <tr style=\"text-align: right;\">\n",
       "      <th></th>\n",
       "      <th>Row ID</th>\n",
       "      <th>Order Priority</th>\n",
       "      <th>Discount</th>\n",
       "      <th>Unit Price</th>\n",
       "      <th>Shipping Cost</th>\n",
       "      <th>Customer ID</th>\n",
       "      <th>Customer Name</th>\n",
       "      <th>Ship Mode</th>\n",
       "      <th>Customer Segment</th>\n",
       "      <th>Product Category</th>\n",
       "      <th>...</th>\n",
       "      <th>Region</th>\n",
       "      <th>State or Province</th>\n",
       "      <th>City</th>\n",
       "      <th>Postal Code</th>\n",
       "      <th>Order Date</th>\n",
       "      <th>Ship Date</th>\n",
       "      <th>Profit</th>\n",
       "      <th>Quantity ordered new</th>\n",
       "      <th>Sales</th>\n",
       "      <th>Order ID</th>\n",
       "    </tr>\n",
       "  </thead>\n",
       "  <tbody>\n",
       "    <tr>\n",
       "      <th>0</th>\n",
       "      <td>False</td>\n",
       "      <td>False</td>\n",
       "      <td>False</td>\n",
       "      <td>False</td>\n",
       "      <td>False</td>\n",
       "      <td>False</td>\n",
       "      <td>False</td>\n",
       "      <td>False</td>\n",
       "      <td>False</td>\n",
       "      <td>False</td>\n",
       "      <td>...</td>\n",
       "      <td>False</td>\n",
       "      <td>False</td>\n",
       "      <td>False</td>\n",
       "      <td>False</td>\n",
       "      <td>False</td>\n",
       "      <td>False</td>\n",
       "      <td>False</td>\n",
       "      <td>False</td>\n",
       "      <td>False</td>\n",
       "      <td>False</td>\n",
       "    </tr>\n",
       "    <tr>\n",
       "      <th>1</th>\n",
       "      <td>False</td>\n",
       "      <td>False</td>\n",
       "      <td>False</td>\n",
       "      <td>False</td>\n",
       "      <td>False</td>\n",
       "      <td>False</td>\n",
       "      <td>False</td>\n",
       "      <td>False</td>\n",
       "      <td>False</td>\n",
       "      <td>False</td>\n",
       "      <td>...</td>\n",
       "      <td>False</td>\n",
       "      <td>False</td>\n",
       "      <td>False</td>\n",
       "      <td>False</td>\n",
       "      <td>False</td>\n",
       "      <td>False</td>\n",
       "      <td>False</td>\n",
       "      <td>False</td>\n",
       "      <td>False</td>\n",
       "      <td>False</td>\n",
       "    </tr>\n",
       "    <tr>\n",
       "      <th>2</th>\n",
       "      <td>False</td>\n",
       "      <td>False</td>\n",
       "      <td>False</td>\n",
       "      <td>False</td>\n",
       "      <td>False</td>\n",
       "      <td>False</td>\n",
       "      <td>False</td>\n",
       "      <td>False</td>\n",
       "      <td>False</td>\n",
       "      <td>False</td>\n",
       "      <td>...</td>\n",
       "      <td>False</td>\n",
       "      <td>False</td>\n",
       "      <td>False</td>\n",
       "      <td>False</td>\n",
       "      <td>False</td>\n",
       "      <td>False</td>\n",
       "      <td>False</td>\n",
       "      <td>False</td>\n",
       "      <td>False</td>\n",
       "      <td>False</td>\n",
       "    </tr>\n",
       "    <tr>\n",
       "      <th>3</th>\n",
       "      <td>False</td>\n",
       "      <td>False</td>\n",
       "      <td>False</td>\n",
       "      <td>False</td>\n",
       "      <td>False</td>\n",
       "      <td>False</td>\n",
       "      <td>False</td>\n",
       "      <td>False</td>\n",
       "      <td>False</td>\n",
       "      <td>False</td>\n",
       "      <td>...</td>\n",
       "      <td>False</td>\n",
       "      <td>False</td>\n",
       "      <td>False</td>\n",
       "      <td>False</td>\n",
       "      <td>False</td>\n",
       "      <td>False</td>\n",
       "      <td>False</td>\n",
       "      <td>False</td>\n",
       "      <td>False</td>\n",
       "      <td>False</td>\n",
       "    </tr>\n",
       "    <tr>\n",
       "      <th>4</th>\n",
       "      <td>False</td>\n",
       "      <td>False</td>\n",
       "      <td>False</td>\n",
       "      <td>False</td>\n",
       "      <td>False</td>\n",
       "      <td>False</td>\n",
       "      <td>False</td>\n",
       "      <td>False</td>\n",
       "      <td>False</td>\n",
       "      <td>False</td>\n",
       "      <td>...</td>\n",
       "      <td>False</td>\n",
       "      <td>False</td>\n",
       "      <td>False</td>\n",
       "      <td>False</td>\n",
       "      <td>False</td>\n",
       "      <td>False</td>\n",
       "      <td>False</td>\n",
       "      <td>False</td>\n",
       "      <td>False</td>\n",
       "      <td>False</td>\n",
       "    </tr>\n",
       "    <tr>\n",
       "      <th>...</th>\n",
       "      <td>...</td>\n",
       "      <td>...</td>\n",
       "      <td>...</td>\n",
       "      <td>...</td>\n",
       "      <td>...</td>\n",
       "      <td>...</td>\n",
       "      <td>...</td>\n",
       "      <td>...</td>\n",
       "      <td>...</td>\n",
       "      <td>...</td>\n",
       "      <td>...</td>\n",
       "      <td>...</td>\n",
       "      <td>...</td>\n",
       "      <td>...</td>\n",
       "      <td>...</td>\n",
       "      <td>...</td>\n",
       "      <td>...</td>\n",
       "      <td>...</td>\n",
       "      <td>...</td>\n",
       "      <td>...</td>\n",
       "      <td>...</td>\n",
       "    </tr>\n",
       "    <tr>\n",
       "      <th>9421</th>\n",
       "      <td>False</td>\n",
       "      <td>False</td>\n",
       "      <td>False</td>\n",
       "      <td>False</td>\n",
       "      <td>False</td>\n",
       "      <td>False</td>\n",
       "      <td>False</td>\n",
       "      <td>False</td>\n",
       "      <td>False</td>\n",
       "      <td>False</td>\n",
       "      <td>...</td>\n",
       "      <td>False</td>\n",
       "      <td>False</td>\n",
       "      <td>False</td>\n",
       "      <td>False</td>\n",
       "      <td>False</td>\n",
       "      <td>False</td>\n",
       "      <td>False</td>\n",
       "      <td>False</td>\n",
       "      <td>False</td>\n",
       "      <td>False</td>\n",
       "    </tr>\n",
       "    <tr>\n",
       "      <th>9422</th>\n",
       "      <td>False</td>\n",
       "      <td>False</td>\n",
       "      <td>False</td>\n",
       "      <td>False</td>\n",
       "      <td>False</td>\n",
       "      <td>False</td>\n",
       "      <td>False</td>\n",
       "      <td>False</td>\n",
       "      <td>False</td>\n",
       "      <td>False</td>\n",
       "      <td>...</td>\n",
       "      <td>False</td>\n",
       "      <td>False</td>\n",
       "      <td>False</td>\n",
       "      <td>False</td>\n",
       "      <td>False</td>\n",
       "      <td>False</td>\n",
       "      <td>False</td>\n",
       "      <td>False</td>\n",
       "      <td>False</td>\n",
       "      <td>False</td>\n",
       "    </tr>\n",
       "    <tr>\n",
       "      <th>9423</th>\n",
       "      <td>False</td>\n",
       "      <td>False</td>\n",
       "      <td>False</td>\n",
       "      <td>False</td>\n",
       "      <td>False</td>\n",
       "      <td>False</td>\n",
       "      <td>False</td>\n",
       "      <td>False</td>\n",
       "      <td>False</td>\n",
       "      <td>False</td>\n",
       "      <td>...</td>\n",
       "      <td>False</td>\n",
       "      <td>False</td>\n",
       "      <td>False</td>\n",
       "      <td>False</td>\n",
       "      <td>False</td>\n",
       "      <td>False</td>\n",
       "      <td>False</td>\n",
       "      <td>False</td>\n",
       "      <td>False</td>\n",
       "      <td>False</td>\n",
       "    </tr>\n",
       "    <tr>\n",
       "      <th>9424</th>\n",
       "      <td>False</td>\n",
       "      <td>False</td>\n",
       "      <td>False</td>\n",
       "      <td>False</td>\n",
       "      <td>False</td>\n",
       "      <td>False</td>\n",
       "      <td>False</td>\n",
       "      <td>False</td>\n",
       "      <td>False</td>\n",
       "      <td>False</td>\n",
       "      <td>...</td>\n",
       "      <td>False</td>\n",
       "      <td>False</td>\n",
       "      <td>False</td>\n",
       "      <td>False</td>\n",
       "      <td>False</td>\n",
       "      <td>False</td>\n",
       "      <td>False</td>\n",
       "      <td>False</td>\n",
       "      <td>False</td>\n",
       "      <td>False</td>\n",
       "    </tr>\n",
       "    <tr>\n",
       "      <th>9425</th>\n",
       "      <td>False</td>\n",
       "      <td>False</td>\n",
       "      <td>False</td>\n",
       "      <td>False</td>\n",
       "      <td>False</td>\n",
       "      <td>False</td>\n",
       "      <td>False</td>\n",
       "      <td>False</td>\n",
       "      <td>False</td>\n",
       "      <td>False</td>\n",
       "      <td>...</td>\n",
       "      <td>False</td>\n",
       "      <td>False</td>\n",
       "      <td>False</td>\n",
       "      <td>False</td>\n",
       "      <td>False</td>\n",
       "      <td>False</td>\n",
       "      <td>False</td>\n",
       "      <td>False</td>\n",
       "      <td>False</td>\n",
       "      <td>False</td>\n",
       "    </tr>\n",
       "  </tbody>\n",
       "</table>\n",
       "<p>9426 rows × 24 columns</p>\n",
       "</div>"
      ],
      "text/plain": [
       "      Row ID  Order Priority  Discount  Unit Price  Shipping Cost  \\\n",
       "0      False           False     False       False          False   \n",
       "1      False           False     False       False          False   \n",
       "2      False           False     False       False          False   \n",
       "3      False           False     False       False          False   \n",
       "4      False           False     False       False          False   \n",
       "...      ...             ...       ...         ...            ...   \n",
       "9421   False           False     False       False          False   \n",
       "9422   False           False     False       False          False   \n",
       "9423   False           False     False       False          False   \n",
       "9424   False           False     False       False          False   \n",
       "9425   False           False     False       False          False   \n",
       "\n",
       "      Customer ID  Customer Name  Ship Mode  Customer Segment  \\\n",
       "0           False          False      False             False   \n",
       "1           False          False      False             False   \n",
       "2           False          False      False             False   \n",
       "3           False          False      False             False   \n",
       "4           False          False      False             False   \n",
       "...           ...            ...        ...               ...   \n",
       "9421        False          False      False             False   \n",
       "9422        False          False      False             False   \n",
       "9423        False          False      False             False   \n",
       "9424        False          False      False             False   \n",
       "9425        False          False      False             False   \n",
       "\n",
       "      Product Category  ...  Region  State or Province   City  Postal Code  \\\n",
       "0                False  ...   False              False  False        False   \n",
       "1                False  ...   False              False  False        False   \n",
       "2                False  ...   False              False  False        False   \n",
       "3                False  ...   False              False  False        False   \n",
       "4                False  ...   False              False  False        False   \n",
       "...                ...  ...     ...                ...    ...          ...   \n",
       "9421             False  ...   False              False  False        False   \n",
       "9422             False  ...   False              False  False        False   \n",
       "9423             False  ...   False              False  False        False   \n",
       "9424             False  ...   False              False  False        False   \n",
       "9425             False  ...   False              False  False        False   \n",
       "\n",
       "      Order Date  Ship Date  Profit  Quantity ordered new  Sales  Order ID  \n",
       "0          False      False   False                 False  False     False  \n",
       "1          False      False   False                 False  False     False  \n",
       "2          False      False   False                 False  False     False  \n",
       "3          False      False   False                 False  False     False  \n",
       "4          False      False   False                 False  False     False  \n",
       "...          ...        ...     ...                   ...    ...       ...  \n",
       "9421       False      False   False                 False  False     False  \n",
       "9422       False      False   False                 False  False     False  \n",
       "9423       False      False   False                 False  False     False  \n",
       "9424       False      False   False                 False  False     False  \n",
       "9425       False      False   False                 False  False     False  \n",
       "\n",
       "[9426 rows x 24 columns]"
      ]
     },
     "execution_count": 14,
     "metadata": {},
     "output_type": "execute_result"
    }
   ],
   "source": [
    "data.isnull()"
   ]
  },
  {
   "cell_type": "code",
   "execution_count": 15,
   "id": "d0ff6314-f86d-459a-b8e2-a31f1413d252",
   "metadata": {},
   "outputs": [],
   "source": [
    "# count mising valus#"
   ]
  },
  {
   "cell_type": "code",
   "execution_count": 16,
   "id": "827bc2ad-3153-4ca9-a88e-7e6b96a9011f",
   "metadata": {},
   "outputs": [
    {
     "data": {
      "text/plain": [
       "Row ID                   0\n",
       "Order Priority           0\n",
       "Discount                 0\n",
       "Unit Price               0\n",
       "Shipping Cost            0\n",
       "Customer ID              0\n",
       "Customer Name            0\n",
       "Ship Mode                0\n",
       "Customer Segment         0\n",
       "Product Category         0\n",
       "Product Sub-Category     0\n",
       "Product Container        0\n",
       "Product Name             0\n",
       "Product Base Margin     72\n",
       "Region                   0\n",
       "State or Province        0\n",
       "City                     0\n",
       "Postal Code              0\n",
       "Order Date               0\n",
       "Ship Date                0\n",
       "Profit                   0\n",
       "Quantity ordered new     0\n",
       "Sales                    0\n",
       "Order ID                 0\n",
       "dtype: int64"
      ]
     },
     "execution_count": 16,
     "metadata": {},
     "output_type": "execute_result"
    }
   ],
   "source": [
    "data.isnull().sum()"
   ]
  },
  {
   "cell_type": "code",
   "execution_count": 17,
   "id": "69ae17c5-f189-4a91-9331-e196f6697e39",
   "metadata": {},
   "outputs": [],
   "source": [
    "# product base margin have 72 missing valus#"
   ]
  },
  {
   "cell_type": "code",
   "execution_count": 18,
   "id": "201b46cc-4557-41ba-8460-10b40f323fbb",
   "metadata": {},
   "outputs": [
    {
     "data": {
      "text/plain": [
       "0.5121894376737225"
      ]
     },
     "execution_count": 18,
     "metadata": {},
     "output_type": "execute_result"
    }
   ],
   "source": [
    "data[\"Product Base Margin\"].mean()"
   ]
  },
  {
   "cell_type": "code",
   "execution_count": 19,
   "id": "7e4080a3-7960-40a7-afbb-abe13a82abfe",
   "metadata": {},
   "outputs": [],
   "source": [
    "# so now we can fill mean values in place of missing vales# "
   ]
  },
  {
   "cell_type": "code",
   "execution_count": 20,
   "id": "2c459f83-5932-4bde-9056-4b6286b045ec",
   "metadata": {},
   "outputs": [
    {
     "name": "stderr",
     "output_type": "stream",
     "text": [
      "C:\\Users\\hp\\AppData\\Local\\Temp\\ipykernel_16000\\3410480757.py:1: FutureWarning: A value is trying to be set on a copy of a DataFrame or Series through chained assignment using an inplace method.\n",
      "The behavior will change in pandas 3.0. This inplace method will never work because the intermediate object on which we are setting values always behaves as a copy.\n",
      "\n",
      "For example, when doing 'df[col].method(value, inplace=True)', try using 'df.method({col: value}, inplace=True)' or df[col] = df[col].method(value) instead, to perform the operation inplace on the original object.\n",
      "\n",
      "\n",
      "  data[\"Product Base Margin\"].fillna(data[\"Product Base Margin\"].mean(), inplace = True)\n"
     ]
    }
   ],
   "source": [
    "data[\"Product Base Margin\"].fillna(data[\"Product Base Margin\"].mean(), inplace = True)"
   ]
  },
  {
   "cell_type": "code",
   "execution_count": 21,
   "id": "8cf6b977-a773-4a33-a63d-cb25a53b906a",
   "metadata": {},
   "outputs": [],
   "source": [
    "#now there is no missing values#"
   ]
  },
  {
   "cell_type": "code",
   "execution_count": 22,
   "id": "c09ef5d4-cb5b-4e52-85f9-a038ba5ad5e1",
   "metadata": {},
   "outputs": [],
   "source": [
    "# see what is the order priority of customer#"
   ]
  },
  {
   "cell_type": "code",
   "execution_count": 23,
   "id": "577747b5-2d57-4fd8-b56e-c2d8540635b2",
   "metadata": {},
   "outputs": [
    {
     "data": {
      "text/plain": [
       "Order Priority\n",
       "High             1970\n",
       "Low              1926\n",
       "Not Specified    1881\n",
       "Medium           1844\n",
       "Critical         1804\n",
       "Critical            1\n",
       "Name: count, dtype: int64"
      ]
     },
     "execution_count": 23,
     "metadata": {},
     "output_type": "execute_result"
    }
   ],
   "source": [
    "data[\"Order Priority\"].value_counts()"
   ]
  },
  {
   "cell_type": "code",
   "execution_count": 24,
   "id": "3c5b249a-8c39-4e03-a8ff-407888f3c2f2",
   "metadata": {},
   "outputs": [],
   "source": [
    "# now we have two type of critical values , so we can find the diffrent#"
   ]
  },
  {
   "cell_type": "code",
   "execution_count": 25,
   "id": "7a07277b-6e64-40b9-8d52-d0bf7dbb3866",
   "metadata": {},
   "outputs": [
    {
     "data": {
      "text/plain": [
       "array(['Not Specified', 'High', 'Medium', 'Low', 'Critical', 'Critical '],\n",
       "      dtype=object)"
      ]
     },
     "execution_count": 25,
     "metadata": {},
     "output_type": "execute_result"
    }
   ],
   "source": [
    "data[\"Order Priority\"].unique()"
   ]
  },
  {
   "cell_type": "code",
   "execution_count": 26,
   "id": "31b8a56f-ec20-4d05-b2eb-d5ac50ae5004",
   "metadata": {},
   "outputs": [],
   "source": [
    "# reason of two critical row is that space,  so can solve  by replacement#"
   ]
  },
  {
   "cell_type": "code",
   "execution_count": 27,
   "id": "92f816dc-b7b3-4bf6-84b6-47448c4446a6",
   "metadata": {},
   "outputs": [],
   "source": [
    " data[\"Order Priority\"]= data[\"Order Priority\"].replace(\"Critical\", \"Critical \")"
   ]
  },
  {
   "cell_type": "code",
   "execution_count": 28,
   "id": "d0504815-13bc-4607-ae19-3c8b7d149316",
   "metadata": {},
   "outputs": [],
   "source": [
    "# graphical vision of order priority#"
   ]
  },
  {
   "cell_type": "code",
   "execution_count": 29,
   "id": "3b92f433-0e5c-4f3e-ac26-91bdc9ca7ab3",
   "metadata": {},
   "outputs": [
    {
     "data": {
      "image/png": "[encoded data removed]",
      "text/plain": [
       "<Figure size 500x400 with 1 Axes>"
      ]
     },
     "metadata": {},
     "output_type": "display_data"
    }
   ],
   "source": [
    "plt.figure(figsize = (5,4))\n",
    "sns.countplot(x = \"Order Priority\", data = data)\n",
    "plt.title (\"Count of Order Priority\")\n",
    "plt.savefig(\"Count of Order Priority\")\n",
    "plt.show()"
   ]
  },
  {
   "cell_type": "code",
   "execution_count": 30,
   "id": "bf3d58c2-92a2-4b3d-9a2f-3a398b529af1",
   "metadata": {},
   "outputs": [],
   "source": [
    "# we are conting our numerical values#"
   ]
  },
  {
   "cell_type": "code",
   "execution_count": 31,
   "id": "cc82552d-6521-498b-88ce-ffe5994a9103",
   "metadata": {},
   "outputs": [
    {
     "data": {
      "image/png": "[encoded data removed]",
      "text/plain": [
       "<Figure size 640x480 with 1 Axes>"
      ]
     },
     "metadata": {},
     "output_type": "display_data"
    }
   ],
   "source": [
    "ax = sns.countplot(x = \"Order Priority\", data = data, color = 'lightgreen' )\n",
    "for bars in ax.containers:\n",
    "    ax.bar_label(bars)"
   ]
  },
  {
   "cell_type": "code",
   "execution_count": 32,
   "id": "7d80b335-452c-4f0a-82f8-6d22603b34bf",
   "metadata": {},
   "outputs": [],
   "source": [
    "# So now we are finding highest shipping mode#"
   ]
  },
  {
   "cell_type": "code",
   "execution_count": 33,
   "id": "fd8f235d-56ec-4a26-8b7e-a5d96b6908d6",
   "metadata": {},
   "outputs": [
    {
     "data": {
      "text/plain": [
       "Ship Mode\n",
       "Regular Air       7036\n",
       "Delivery Truck    1283\n",
       "Express Air       1107\n",
       "Name: count, dtype: int64"
      ]
     },
     "execution_count": 33,
     "metadata": {},
     "output_type": "execute_result"
    }
   ],
   "source": [
    "data[\"Ship Mode\"].value_counts()"
   ]
  },
  {
   "cell_type": "code",
   "execution_count": 34,
   "id": "730fca39-b112-4fbb-9541-1c36f8eee68a",
   "metadata": {},
   "outputs": [],
   "source": [
    "\n",
    "#graphical prentation#"
   ]
  },
  {
   "cell_type": "code",
   "execution_count": 35,
   "id": "734158de-a997-4d02-992a-33bf332a4445",
   "metadata": {},
   "outputs": [],
   "source": [
    "x = data[\"Ship Mode\"].value_counts().index\n",
    "y = data[\"Ship Mode\"].value_counts().values\n"
   ]
  },
  {
   "cell_type": "code",
   "execution_count": 36,
   "id": "0f8f5b60-9cdd-4c32-8d4d-386f501d62d7",
   "metadata": {},
   "outputs": [
    {
     "data": {
      "image/png": "[encoded data removed]",
      "text/plain": [
       "<Figure size 500x400 with 1 Axes>"
      ]
     },
     "metadata": {},
     "output_type": "display_data"
    }
   ],
   "source": [
    "plt.figure(figsize=(5,4))\n",
    "plt.pie(y,labels=x, startangle = 60, autopct= \"%0.1f%%\")\n",
    "plt.legend(loc = 4)\n",
    "plt.show()"
   ]
  },
  {
   "cell_type": "code",
   "execution_count": 37,
   "id": "92bfe795-1fb4-4b6e-9fc6-9c93f51629de",
   "metadata": {},
   "outputs": [],
   "source": [
    "\n",
    "# highest ship mode by regular Air #"
   ]
  },
  {
   "cell_type": "code",
   "execution_count": 38,
   "id": "4e5dbf47-fb9c-4478-9b1e-80aaee42ee02",
   "metadata": {},
   "outputs": [],
   "source": [
    "# now we are looking product categery#"
   ]
  },
  {
   "cell_type": "code",
   "execution_count": 39,
   "id": "12545843-3600-47ad-8141-c7cd03ae2bdf",
   "metadata": {},
   "outputs": [
    {
     "data": {
      "image/png": "[encoded data removed]",
      "text/plain": [
       "<Figure size 500x400 with 1 Axes>"
      ]
     },
     "metadata": {},
     "output_type": "display_data"
    }
   ],
   "source": [
    "plt.figure(figsize=(5,4))\n",
    "sns.countplot(x =\"Ship Mode\" , data = data , hue =\"Product Category\")\n",
    "plt.show()"
   ]
  },
  {
   "cell_type": "code",
   "execution_count": 40,
   "id": "accbed47-2bc2-489b-b8d9-6bc9cd270115",
   "metadata": {},
   "outputs": [],
   "source": [
    "# we can see that regular air highest ship mode office supplies and delivery truck mode  highest suply furniture#"
   ]
  },
  {
   "cell_type": "code",
   "execution_count": 41,
   "id": "2205e733-c369-4301-8762-525a07088164",
   "metadata": {},
   "outputs": [],
   "source": [
    "#  cutomer segment  #"
   ]
  },
  {
   "cell_type": "code",
   "execution_count": 42,
   "id": "84fd922a-4a31-492b-b8e9-5904cdacf3a6",
   "metadata": {},
   "outputs": [
    {
     "data": {
      "image/png": "[encoded data removed]",
      "text/plain": [
       "<Figure size 700x500 with 1 Axes>"
      ]
     },
     "metadata": {},
     "output_type": "display_data"
    }
   ],
   "source": [
    "plt.figure(figsize=(7,5))\n",
    "sns.countplot(x =\"Customer Segment\" , data = data , color = \"purple\")\n",
    "plt.show()"
   ]
  },
  {
   "cell_type": "code",
   "execution_count": 43,
   "id": "0c8a89a4-dd0a-451f-897d-280b6b122147",
   "metadata": {},
   "outputs": [],
   "source": [
    "\n",
    "# we can look that highest corporate customer and lowest consumer#"
   ]
  },
  {
   "cell_type": "code",
   "execution_count": 44,
   "id": "f3288cbf-6fbe-4639-b34f-297df7362ff3",
   "metadata": {},
   "outputs": [],
   "source": [
    "# now we can also find product category and product sub category product#"
   ]
  },
  {
   "cell_type": "code",
   "execution_count": 45,
   "id": "971e6504-8a24-41df-ab61-c51699ad51ae",
   "metadata": {},
   "outputs": [
    {
     "data": {
      "image/png": "[encoded data removed]",
      "text/plain": [
       "<Figure size 400x300 with 1 Axes>"
      ]
     },
     "metadata": {},
     "output_type": "display_data"
    }
   ],
   "source": [
    "\n",
    "plt.figure(figsize=(4,3))\n",
    "plt.hist(x =\"Product Category\" , data = data , color = \"black\")\n",
    "plt.show()"
   ]
  },
  {
   "cell_type": "code",
   "execution_count": 46,
   "id": "5ab005ec-7652-4c87-b62f-5e2bc10e8408",
   "metadata": {},
   "outputs": [],
   "source": [
    "# their is highest offie supplies#"
   ]
  },
  {
   "cell_type": "code",
   "execution_count": 47,
   "id": "abfbd1fc-7e9a-473a-8d76-88abf5e7b82e",
   "metadata": {},
   "outputs": [],
   "source": [
    "# what about product category#"
   ]
  },
  {
   "cell_type": "code",
   "execution_count": 48,
   "id": "796ddedb-dcd6-46dd-8758-6660d9ced732",
   "metadata": {},
   "outputs": [
    {
     "data": {
      "image/png": "[encoded data removed]",
      "text/plain": [
       "<Figure size 1000x500 with 1 Axes>"
      ]
     },
     "metadata": {},
     "output_type": "display_data"
    }
   ],
   "source": [
    "plt.figure(figsize=(10,5))\n",
    "sns.countplot(x =\"Product Category\" , data = data[data [\"Product Category\"]== \"Office Supplies\"],hue=\"Product Sub-Category\")\n",
    "plt.show()"
   ]
  },
  {
   "cell_type": "code",
   "execution_count": 49,
   "id": "b7f0a2fb-6c91-4d32-9f70-5c10ff0fda3a",
   "metadata": {},
   "outputs": [
    {
     "data": {
      "image/png": "[encoded data removed]",
      "text/plain": [
       "<Figure size 800x400 with 1 Axes>"
      ]
     },
     "metadata": {},
     "output_type": "display_data"
    }
   ],
   "source": [
    "plt.figure(figsize=(8,4))\n",
    "sns.countplot(x =\"Product Category\" , data = data[data [\"Product Category\"]== \"Technology\"],hue=\"Product Sub-Category\")\n",
    "plt.show()"
   ]
  },
  {
   "cell_type": "code",
   "execution_count": 50,
   "id": "ce797664-5c67-468a-81bb-eff2229d4e63",
   "metadata": {},
   "outputs": [
    {
     "data": {
      "image/png": "[encoded data removed]",
      "text/plain": [
       "<Figure size 500x400 with 1 Axes>"
      ]
     },
     "metadata": {},
     "output_type": "display_data"
    }
   ],
   "source": [
    "plt.figure(figsize=(5,4))\n",
    "sns.countplot(x =\"Product Category\" , data = data[data [\"Product Category\"]== \"Furniture\"],hue=\"Product Sub-Category\")\n",
    "plt.show()"
   ]
  },
  {
   "cell_type": "code",
   "execution_count": 51,
   "id": "25baea7b-2ef7-4beb-9d7a-8241937181e0",
   "metadata": {},
   "outputs": [
    {
     "name": "stdout",
     "output_type": "stream",
     "text": [
      "<class 'pandas.core.frame.DataFrame'>\n",
      "RangeIndex: 9426 entries, 0 to 9425\n",
      "Data columns (total 24 columns):\n",
      " #   Column                Non-Null Count  Dtype  \n",
      "---  ------                --------------  -----  \n",
      " 0   Row ID                9426 non-null   int64  \n",
      " 1   Order Priority        9426 non-null   object \n",
      " 2   Discount              9426 non-null   float64\n",
      " 3   Unit Price            9426 non-null   float64\n",
      " 4   Shipping Cost         9426 non-null   float64\n",
      " 5   Customer ID           9426 non-null   int64  \n",
      " 6   Customer Name         9426 non-null   object \n",
      " 7   Ship Mode             9426 non-null   object \n",
      " 8   Customer Segment      9426 non-null   object \n",
      " 9   Product Category      9426 non-null   object \n",
      " 10  Product Sub-Category  9426 non-null   object \n",
      " 11  Product Container     9426 non-null   object \n",
      " 12  Product Name          9426 non-null   object \n",
      " 13  Product Base Margin   9426 non-null   float64\n",
      " 14  Region                9426 non-null   object \n",
      " 15  State or Province     9426 non-null   object \n",
      " 16  City                  9426 non-null   object \n",
      " 17  Postal Code           9426 non-null   int64  \n",
      " 18  Order Date            9426 non-null   object \n",
      " 19  Ship Date             9426 non-null   object \n",
      " 20  Profit                9426 non-null   float64\n",
      " 21  Quantity ordered new  9426 non-null   int64  \n",
      " 22  Sales                 9426 non-null   float64\n",
      " 23  Order ID              9426 non-null   int64  \n",
      "dtypes: float64(6), int64(5), object(13)\n",
      "memory usage: 1.7+ MB\n"
     ]
    }
   ],
   "source": [
    "data.info()"
   ]
  },
  {
   "cell_type": "code",
   "execution_count": 52,
   "id": "74a65bc0-ea50-4e80-8cec-dc8dc6834933",
   "metadata": {},
   "outputs": [],
   "source": [
    "# now we can see that in which category we have higest profit#"
   ]
  },
  {
   "cell_type": "code",
   "execution_count": 53,
   "id": "0af4db7a-7b9c-40b2-80c3-1f97b7992553",
   "metadata": {},
   "outputs": [
    {
     "data": {
      "image/png": "[encoded data removed]",
      "text/plain": [
       "<Figure size 640x480 with 1 Axes>"
      ]
     },
     "metadata": {},
     "output_type": "display_data"
    }
   ],
   "source": [
    "sns.barplot(x  = \"Product Category\", y = \"Profit\" , data = data, estimator = 'sum' , color =\"orange\")\n",
    "plt.show()\n"
   ]
  },
  {
   "cell_type": "code",
   "execution_count": 54,
   "id": "811140be-7ead-4e46-b0ca-75a67633c5cd",
   "metadata": {},
   "outputs": [],
   "source": [
    "# technology product categery highest profit#"
   ]
  },
  {
   "cell_type": "code",
   "execution_count": 55,
   "id": "a79aa357-cdd5-4778-bbd0-0d02ed996276",
   "metadata": {},
   "outputs": [],
   "source": [
    "# we are look that in which state product lowest sold#"
   ]
  },
  {
   "cell_type": "code",
   "execution_count": 56,
   "id": "d71580b2-e585-4007-a307-445f9c2a1e48",
   "metadata": {},
   "outputs": [
    {
     "data": {
      "text/plain": [
       "State or Province\n",
       "California              1021\n",
       "Texas                    646\n",
       "Illinois                 584\n",
       "New York                 574\n",
       "Florida                  522\n",
       "Ohio                     396\n",
       "Washington               327\n",
       "Michigan                 327\n",
       "Pennsylvania             271\n",
       "North Carolina           251\n",
       "Indiana                  241\n",
       "Minnesota                239\n",
       "Massachusetts            222\n",
       "Georgia                  214\n",
       "Virginia                 198\n",
       "Maryland                 178\n",
       "Colorado                 177\n",
       "New Jersey               177\n",
       "Wisconsin                169\n",
       "Oregon                   168\n",
       "Tennessee                166\n",
       "Missouri                 161\n",
       "Iowa                     156\n",
       "Utah                     146\n",
       "Arizona                  134\n",
       "Kansas                   133\n",
       "Maine                    128\n",
       "Alabama                  125\n",
       "Arkansas                 123\n",
       "Idaho                    114\n",
       "South Carolina           105\n",
       "Oklahoma                 104\n",
       "Louisiana                 89\n",
       "New Mexico                84\n",
       "Kentucky                  83\n",
       "Connecticut               82\n",
       "Mississippi               78\n",
       "Nebraska                  77\n",
       "District of Columbia      68\n",
       "Vermont                   61\n",
       "New Hampshire             54\n",
       "Montana                   49\n",
       "West Virginia             43\n",
       "Nevada                    43\n",
       "North Dakota              34\n",
       "South Dakota              28\n",
       "Wyoming                   21\n",
       "Rhode Island              20\n",
       "Delaware                  15\n",
       "Name: count, dtype: int64"
      ]
     },
     "execution_count": 56,
     "metadata": {},
     "output_type": "execute_result"
    }
   ],
   "source": [
    "data[\"State or Province\"].value_counts()"
   ]
  },
  {
   "cell_type": "code",
   "execution_count": 57,
   "id": "a0bed452-338a-44eb-92eb-951496ea5aa4",
   "metadata": {},
   "outputs": [],
   "source": [
    "# highest sold state califonia and lowest delaware#"
   ]
  },
  {
   "cell_type": "code",
   "execution_count": 58,
   "id": "3d6932e6-2ca0-4350-ab97-0bddbddbcfa4",
   "metadata": {},
   "outputs": [
    {
     "data": {
      "text/plain": [
       "State or Province\n",
       "California    1021\n",
       "Texas          646\n",
       "Illinois       584\n",
       "New York       574\n",
       "Florida        522\n",
       "Name: count, dtype: int64"
      ]
     },
     "execution_count": 58,
     "metadata": {},
     "output_type": "execute_result"
    }
   ],
   "source": [
    "data[\"State or Province\"].value_counts()[:5]"
   ]
  },
  {
   "cell_type": "code",
   "execution_count": 59,
   "id": "308ef44a-e397-48f5-b0d5-811cd8643c41",
   "metadata": {},
   "outputs": [],
   "source": [
    "# top 5 highest sold state#"
   ]
  },
  {
   "cell_type": "code",
   "execution_count": 60,
   "id": "ee64eee7-a6f8-4332-a1e7-002472b889cf",
   "metadata": {},
   "outputs": [],
   "source": [
    "# we are talk about in which product category we have more margin#"
   ]
  },
  {
   "cell_type": "code",
   "execution_count": 61,
   "id": "e6d1c265-6803-4366-807e-dae03c7476ed",
   "metadata": {},
   "outputs": [
    {
     "data": {
      "image/png": "[encoded data removed]",
      "text/plain": [
       "<Figure size 640x480 with 1 Axes>"
      ]
     },
     "metadata": {},
     "output_type": "display_data"
    }
   ],
   "source": [
    "sns.boxplot( x = \"Product Category\" , y = \"Product Base Margin\" , data = data, color = \"skyblue\")\n",
    "plt.show()"
   ]
  },
  {
   "cell_type": "code",
   "execution_count": 62,
   "id": "25c9f15b-67e5-46b5-9e4e-83514463b1cf",
   "metadata": {},
   "outputs": [],
   "source": [
    "# by the box plot we can se that we have more margin in office supplies #"
   ]
  },
  {
   "cell_type": "code",
   "execution_count": null,
   "id": "97ec3471-79b0-4ce2-accc-b0129de5b629",
   "metadata": {},
   "outputs": [],
   "source": []
  },
  {
   "cell_type": "code",
   "execution_count": null,
   "id": "c7e0cf3c-5df5-435b-b46f-62a5e0671b99",
   "metadata": {},
   "outputs": [],
   "source": [
    " "
   ]
  },
  {
   "cell_type": "code",
   "execution_count": null,
   "id": "974b96f0-e3c6-4e93-8cf6-e557134786ff",
   "metadata": {},
   "outputs": [],
   "source": []
  }
 ],
 "metadata": {
  "kernelspec": {
   "display_name": "Python 3 (ipykernel)",
   "language": "python",
   "name": "python3"
  },
  "language_info": {
   "codemirror_mode": {
    "name": "ipython",
    "version": 3
   },
   "file_extension": ".py",
   "mimetype": "text/x-python",
   "name": "python",
   "nbconvert_exporter": "python",
   "pygments_lexer": "ipython3",
   "version": "3.12.1"
  }
 },
 "nbformat": 4,
 "nbformat_minor": 5
}
